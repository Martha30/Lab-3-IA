{
 "cells": [
  {
   "cell_type": "code",
   "metadata": {
    "tags": [],
    "cell_id": "8608397c-2756-4d32-b0be-a27e8648016e",
    "deepnote_to_be_reexecuted": false,
    "source_hash": "b0b4dec8",
    "execution_start": 1648525350379,
    "execution_millis": 8513,
    "deepnote_cell_type": "code",
    "deepnote_cell_height": 279
   },
   "source": "#Librerías \nimport math\nimport numpy as np\nimport pandas as pd\nimport seaborn as sns\nfrom sklearn.preprocessing import StandardScaler\nfrom sklearn.cluster import KMeans\nimport matplotlib.pyplot as plt\nfrom sklearn.mixture import GaussianMixture \nfrom mpl_toolkits.mplot3d import Axes3D\n\n",
   "execution_count": 1,
   "outputs": []
  },
  {
   "cell_type": "code",
   "metadata": {
    "cell_id": "38bf6301b6b14aeca44280d51c92010d",
    "tags": [],
    "deepnote_to_be_reexecuted": false,
    "source_hash": "37d428a1",
    "execution_start": 1648525358905,
    "execution_millis": 7446,
    "deepnote_cell_type": "code",
    "deepnote_cell_height": 464
   },
   "source": "#import dataset\ndf = pd.read_csv(\"/work/minute_weather.csv\", encoding = \"ISO-8859-1\")\ndisplay(df.head())\n",
   "execution_count": 2,
   "outputs": [
    {
     "data": {
      "application/vnd.deepnote.dataframe.v3+json": {
       "column_count": 13,
       "row_count": 5,
       "columns": [
        {
         "name": "rowID",
         "dtype": "int64",
         "stats": {
          "unique_count": 5,
          "nan_count": 0,
          "min": "0",
          "max": "4",
          "histogram": [
           {
            "bin_start": 0,
            "bin_end": 0.4,
            "count": 1
           },
           {
            "bin_start": 0.4,
            "bin_end": 0.8,
            "count": 0
           },
           {
            "bin_start": 0.8,
            "bin_end": 1.2000000000000002,
            "count": 1
           },
           {
            "bin_start": 1.2000000000000002,
            "bin_end": 1.6,
            "count": 0
           },
           {
            "bin_start": 1.6,
            "bin_end": 2,
            "count": 0
           },
           {
            "bin_start": 2,
            "bin_end": 2.4000000000000004,
            "count": 1
           },
           {
            "bin_start": 2.4000000000000004,
            "bin_end": 2.8000000000000003,
            "count": 0
           },
           {
            "bin_start": 2.8000000000000003,
            "bin_end": 3.2,
            "count": 1
           },
           {
            "bin_start": 3.2,
            "bin_end": 3.6,
            "count": 0
           },
           {
            "bin_start": 3.6,
            "bin_end": 4,
            "count": 1
           }
          ]
         }
        },
        {
         "name": "hpwren_timestamp",
         "dtype": "object",
         "stats": {
          "unique_count": 5,
          "nan_count": 0,
          "categories": [
           {
            "name": "2011-09-10 00:00:49",
            "count": 1
           },
           {
            "name": "2011-09-10 00:01:49",
            "count": 1
           },
           {
            "name": "3 others",
            "count": 3
           }
          ]
         }
        },
        {
         "name": "air_pressure",
         "dtype": "float64",
         "stats": {
          "unique_count": 1,
          "nan_count": 0,
          "min": "912.3",
          "max": "912.3",
          "histogram": [
           {
            "bin_start": 911.8,
            "bin_end": 911.9,
            "count": 0
           },
           {
            "bin_start": 911.9,
            "bin_end": 912,
            "count": 0
           },
           {
            "bin_start": 912,
            "bin_end": 912.0999999999999,
            "count": 0
           },
           {
            "bin_start": 912.0999999999999,
            "bin_end": 912.1999999999999,
            "count": 0
           },
           {
            "bin_start": 912.1999999999999,
            "bin_end": 912.3,
            "count": 0
           },
           {
            "bin_start": 912.3,
            "bin_end": 912.4,
            "count": 5
           },
           {
            "bin_start": 912.4,
            "bin_end": 912.5,
            "count": 0
           },
           {
            "bin_start": 912.5,
            "bin_end": 912.5999999999999,
            "count": 0
           },
           {
            "bin_start": 912.5999999999999,
            "bin_end": 912.6999999999999,
            "count": 0
           },
           {
            "bin_start": 912.6999999999999,
            "bin_end": 912.8,
            "count": 0
           }
          ]
         }
        },
        {
         "name": "air_temp",
         "dtype": "float64",
         "stats": {
          "unique_count": 4,
          "nan_count": 0,
          "min": "63.86",
          "max": "64.76",
          "histogram": [
           {
            "bin_start": 63.86,
            "bin_end": 63.95,
            "count": 1
           },
           {
            "bin_start": 63.95,
            "bin_end": 64.04,
            "count": 0
           },
           {
            "bin_start": 64.04,
            "bin_end": 64.13,
            "count": 0
           },
           {
            "bin_start": 64.13,
            "bin_end": 64.22,
            "count": 0
           },
           {
            "bin_start": 64.22,
            "bin_end": 64.31,
            "count": 1
           },
           {
            "bin_start": 64.31,
            "bin_end": 64.4,
            "count": 0
           },
           {
            "bin_start": 64.4,
            "bin_end": 64.49000000000001,
            "count": 2
           },
           {
            "bin_start": 64.49000000000001,
            "bin_end": 64.58,
            "count": 0
           },
           {
            "bin_start": 64.58,
            "bin_end": 64.67,
            "count": 0
           },
           {
            "bin_start": 64.67,
            "bin_end": 64.76,
            "count": 1
           }
          ]
         }
        },
        {
         "name": "avg_wind_direction",
         "dtype": "float64",
         "stats": {
          "unique_count": 5,
          "nan_count": 0,
          "min": "77.0",
          "max": "185.0",
          "histogram": [
           {
            "bin_start": 77,
            "bin_end": 87.8,
            "count": 1
           },
           {
            "bin_start": 87.8,
            "bin_end": 98.6,
            "count": 2
           },
           {
            "bin_start": 98.6,
            "bin_end": 109.4,
            "count": 0
           },
           {
            "bin_start": 109.4,
            "bin_end": 120.2,
            "count": 0
           },
           {
            "bin_start": 120.2,
            "bin_end": 131,
            "count": 0
           },
           {
            "bin_start": 131,
            "bin_end": 141.8,
            "count": 0
           },
           {
            "bin_start": 141.8,
            "bin_end": 152.60000000000002,
            "count": 0
           },
           {
            "bin_start": 152.60000000000002,
            "bin_end": 163.4,
            "count": 1
           },
           {
            "bin_start": 163.4,
            "bin_end": 174.2,
            "count": 0
           },
           {
            "bin_start": 174.2,
            "bin_end": 185,
            "count": 1
           }
          ]
         }
        },
        {
         "name": "avg_wind_speed",
         "dtype": "float64",
         "stats": {
          "unique_count": 4,
          "nan_count": 0,
          "min": "0.4",
          "max": "1.2",
          "histogram": [
           {
            "bin_start": 0.4,
            "bin_end": 0.48,
            "count": 1
           },
           {
            "bin_start": 0.48,
            "bin_end": 0.56,
            "count": 0
           },
           {
            "bin_start": 0.56,
            "bin_end": 0.64,
            "count": 0
           },
           {
            "bin_start": 0.64,
            "bin_end": 0.72,
            "count": 1
           },
           {
            "bin_start": 0.72,
            "bin_end": 0.7999999999999999,
            "count": 0
           },
           {
            "bin_start": 0.7999999999999999,
            "bin_end": 0.8799999999999999,
            "count": 1
           },
           {
            "bin_start": 0.8799999999999999,
            "bin_end": 0.96,
            "count": 0
           },
           {
            "bin_start": 0.96,
            "bin_end": 1.04,
            "count": 0
           },
           {
            "bin_start": 1.04,
            "bin_end": 1.1199999999999999,
            "count": 0
           },
           {
            "bin_start": 1.1199999999999999,
            "bin_end": 1.2,
            "count": 2
           }
          ]
         }
        },
        {
         "name": "max_wind_direction",
         "dtype": "float64",
         "stats": {
          "unique_count": 5,
          "nan_count": 0,
          "min": "106.0",
          "max": "260.0",
          "histogram": [
           {
            "bin_start": 106,
            "bin_end": 121.4,
            "count": 2
           },
           {
            "bin_start": 121.4,
            "bin_end": 136.8,
            "count": 0
           },
           {
            "bin_start": 136.8,
            "bin_end": 152.2,
            "count": 1
           },
           {
            "bin_start": 152.2,
            "bin_end": 167.6,
            "count": 0
           },
           {
            "bin_start": 167.6,
            "bin_end": 183,
            "count": 0
           },
           {
            "bin_start": 183,
            "bin_end": 198.4,
            "count": 0
           },
           {
            "bin_start": 198.4,
            "bin_end": 213.8,
            "count": 0
           },
           {
            "bin_start": 213.8,
            "bin_end": 229.2,
            "count": 1
           },
           {
            "bin_start": 229.2,
            "bin_end": 244.6,
            "count": 0
           },
           {
            "bin_start": 244.6,
            "bin_end": 260,
            "count": 1
           }
          ]
         }
        },
        {
         "name": "max_wind_speed",
         "dtype": "float64",
         "stats": {
          "unique_count": 4,
          "nan_count": 0,
          "min": "1.0",
          "max": "1.6",
          "histogram": [
           {
            "bin_start": 1,
            "bin_end": 1.06,
            "count": 1
           },
           {
            "bin_start": 1.06,
            "bin_end": 1.12,
            "count": 0
           },
           {
            "bin_start": 1.12,
            "bin_end": 1.1800000000000002,
            "count": 0
           },
           {
            "bin_start": 1.1800000000000002,
            "bin_end": 1.24,
            "count": 1
           },
           {
            "bin_start": 1.24,
            "bin_end": 1.3,
            "count": 0
           },
           {
            "bin_start": 1.3,
            "bin_end": 1.36,
            "count": 0
           },
           {
            "bin_start": 1.36,
            "bin_end": 1.4200000000000002,
            "count": 0
           },
           {
            "bin_start": 1.4200000000000002,
            "bin_end": 1.48,
            "count": 0
           },
           {
            "bin_start": 1.48,
            "bin_end": 1.54,
            "count": 1
           },
           {
            "bin_start": 1.54,
            "bin_end": 1.6,
            "count": 2
           }
          ]
         }
        },
        {
         "name": "min_wind_direction",
         "dtype": "float64",
         "stats": {
          "unique_count": 5,
          "nan_count": 0,
          "min": "12.0",
          "max": "324.0",
          "histogram": [
           {
            "bin_start": 12,
            "bin_end": 43.2,
            "count": 2
           },
           {
            "bin_start": 43.2,
            "bin_end": 74.4,
            "count": 0
           },
           {
            "bin_start": 74.4,
            "bin_end": 105.6,
            "count": 2
           },
           {
            "bin_start": 105.6,
            "bin_end": 136.8,
            "count": 0
           },
           {
            "bin_start": 136.8,
            "bin_end": 168,
            "count": 0
           },
           {
            "bin_start": 168,
            "bin_end": 199.2,
            "count": 0
           },
           {
            "bin_start": 199.2,
            "bin_end": 230.4,
            "count": 0
           },
           {
            "bin_start": 230.4,
            "bin_end": 261.6,
            "count": 0
           },
           {
            "bin_start": 261.6,
            "bin_end": 292.8,
            "count": 0
           },
           {
            "bin_start": 292.8,
            "bin_end": 324,
            "count": 1
           }
          ]
         }
        },
        {
         "name": "min_wind_speed",
         "dtype": "float64",
         "stats": {
          "unique_count": 5,
          "nan_count": 0,
          "min": "0.1",
          "max": "1.0",
          "histogram": [
           {
            "bin_start": 0.1,
            "bin_end": 0.19,
            "count": 1
           },
           {
            "bin_start": 0.19,
            "bin_end": 0.28,
            "count": 1
           },
           {
            "bin_start": 0.28,
            "bin_end": 0.37,
            "count": 1
           },
           {
            "bin_start": 0.37,
            "bin_end": 0.45999999999999996,
            "count": 0
           },
           {
            "bin_start": 0.45999999999999996,
            "bin_end": 0.5499999999999999,
            "count": 0
           },
           {
            "bin_start": 0.5499999999999999,
            "bin_end": 0.64,
            "count": 0
           },
           {
            "bin_start": 0.64,
            "bin_end": 0.73,
            "count": 1
           },
           {
            "bin_start": 0.73,
            "bin_end": 0.82,
            "count": 0
           },
           {
            "bin_start": 0.82,
            "bin_end": 0.9099999999999999,
            "count": 0
           },
           {
            "bin_start": 0.9099999999999999,
            "bin_end": 1,
            "count": 1
           }
          ]
         }
        },
        {
         "name": "rain_accumulation",
         "dtype": "float64",
         "stats": {
          "unique_count": 1,
          "nan_count": 1,
          "min": "0.0",
          "max": "0.0",
          "histogram": [
           {
            "bin_start": -0.5,
            "bin_end": -0.4,
            "count": 0
           },
           {
            "bin_start": -0.4,
            "bin_end": -0.3,
            "count": 0
           },
           {
            "bin_start": -0.3,
            "bin_end": -0.19999999999999996,
            "count": 0
           },
           {
            "bin_start": -0.19999999999999996,
            "bin_end": -0.09999999999999998,
            "count": 0
           },
           {
            "bin_start": -0.09999999999999998,
            "bin_end": 0,
            "count": 0
           },
           {
            "bin_start": 0,
            "bin_end": 0.10000000000000009,
            "count": 4
           },
           {
            "bin_start": 0.10000000000000009,
            "bin_end": 0.20000000000000007,
            "count": 0
           },
           {
            "bin_start": 0.20000000000000007,
            "bin_end": 0.30000000000000004,
            "count": 0
           },
           {
            "bin_start": 0.30000000000000004,
            "bin_end": 0.4,
            "count": 0
           },
           {
            "bin_start": 0.4,
            "bin_end": 0.5,
            "count": 0
           }
          ]
         }
        },
        {
         "name": "rain_duration",
         "dtype": "float64",
         "stats": {
          "unique_count": 1,
          "nan_count": 1,
          "min": "0.0",
          "max": "0.0",
          "histogram": [
           {
            "bin_start": -0.5,
            "bin_end": -0.4,
            "count": 0
           },
           {
            "bin_start": -0.4,
            "bin_end": -0.3,
            "count": 0
           },
           {
            "bin_start": -0.3,
            "bin_end": -0.19999999999999996,
            "count": 0
           },
           {
            "bin_start": -0.19999999999999996,
            "bin_end": -0.09999999999999998,
            "count": 0
           },
           {
            "bin_start": -0.09999999999999998,
            "bin_end": 0,
            "count": 0
           },
           {
            "bin_start": 0,
            "bin_end": 0.10000000000000009,
            "count": 4
           },
           {
            "bin_start": 0.10000000000000009,
            "bin_end": 0.20000000000000007,
            "count": 0
           },
           {
            "bin_start": 0.20000000000000007,
            "bin_end": 0.30000000000000004,
            "count": 0
           },
           {
            "bin_start": 0.30000000000000004,
            "bin_end": 0.4,
            "count": 0
           },
           {
            "bin_start": 0.4,
            "bin_end": 0.5,
            "count": 0
           }
          ]
         }
        },
        {
         "name": "relative_humidity",
         "dtype": "float64",
         "stats": {
          "unique_count": 5,
          "nan_count": 0,
          "min": "39.9",
          "max": "60.5",
          "histogram": [
           {
            "bin_start": 39.9,
            "bin_end": 41.96,
            "count": 1
           },
           {
            "bin_start": 41.96,
            "bin_end": 44.019999999999996,
            "count": 1
           },
           {
            "bin_start": 44.019999999999996,
            "bin_end": 46.08,
            "count": 0
           },
           {
            "bin_start": 46.08,
            "bin_end": 48.14,
            "count": 0
           },
           {
            "bin_start": 48.14,
            "bin_end": 50.2,
            "count": 1
           },
           {
            "bin_start": 50.2,
            "bin_end": 52.26,
            "count": 0
           },
           {
            "bin_start": 52.26,
            "bin_end": 54.32,
            "count": 0
           },
           {
            "bin_start": 54.32,
            "bin_end": 56.379999999999995,
            "count": 0
           },
           {
            "bin_start": 56.379999999999995,
            "bin_end": 58.44,
            "count": 0
           },
           {
            "bin_start": 58.44,
            "bin_end": 60.5,
            "count": 2
           }
          ]
         }
        },
        {
         "name": "_deepnote_index_column",
         "dtype": "int64"
        }
       ],
       "rows": [
        {
         "rowID": 0,
         "hpwren_timestamp": "2011-09-10 00:00:49",
         "air_pressure": 912.3,
         "air_temp": 64.76,
         "avg_wind_direction": 97,
         "avg_wind_speed": 1.2,
         "max_wind_direction": 106,
         "max_wind_speed": 1.6,
         "min_wind_direction": 85,
         "min_wind_speed": 1,
         "rain_accumulation": "nan",
         "rain_duration": "nan",
         "relative_humidity": 60.5,
         "_deepnote_index_column": 0
        },
        {
         "rowID": 1,
         "hpwren_timestamp": "2011-09-10 00:01:49",
         "air_pressure": 912.3,
         "air_temp": 63.86,
         "avg_wind_direction": 161,
         "avg_wind_speed": 0.8,
         "max_wind_direction": 215,
         "max_wind_speed": 1.5,
         "min_wind_direction": 43,
         "min_wind_speed": 0.2,
         "rain_accumulation": 0,
         "rain_duration": 0,
         "relative_humidity": 39.9,
         "_deepnote_index_column": 1
        },
        {
         "rowID": 2,
         "hpwren_timestamp": "2011-09-10 00:02:49",
         "air_pressure": 912.3,
         "air_temp": 64.22,
         "avg_wind_direction": 77,
         "avg_wind_speed": 0.7,
         "max_wind_direction": 143,
         "max_wind_speed": 1.2,
         "min_wind_direction": 324,
         "min_wind_speed": 0.3,
         "rain_accumulation": 0,
         "rain_duration": 0,
         "relative_humidity": 43,
         "_deepnote_index_column": 2
        },
        {
         "rowID": 3,
         "hpwren_timestamp": "2011-09-10 00:03:49",
         "air_pressure": 912.3,
         "air_temp": 64.4,
         "avg_wind_direction": 89,
         "avg_wind_speed": 1.2,
         "max_wind_direction": 112,
         "max_wind_speed": 1.6,
         "min_wind_direction": 12,
         "min_wind_speed": 0.7,
         "rain_accumulation": 0,
         "rain_duration": 0,
         "relative_humidity": 49.5,
         "_deepnote_index_column": 3
        },
        {
         "rowID": 4,
         "hpwren_timestamp": "2011-09-10 00:04:49",
         "air_pressure": 912.3,
         "air_temp": 64.4,
         "avg_wind_direction": 185,
         "avg_wind_speed": 0.4,
         "max_wind_direction": 260,
         "max_wind_speed": 1,
         "min_wind_direction": 100,
         "min_wind_speed": 0.1,
         "rain_accumulation": 0,
         "rain_duration": 0,
         "relative_humidity": 58.8,
         "_deepnote_index_column": 4
        }
       ]
      },
      "text/plain": "   rowID     hpwren_timestamp  air_pressure  air_temp  avg_wind_direction  \\\n0      0  2011-09-10 00:00:49         912.3     64.76                97.0   \n1      1  2011-09-10 00:01:49         912.3     63.86               161.0   \n2      2  2011-09-10 00:02:49         912.3     64.22                77.0   \n3      3  2011-09-10 00:03:49         912.3     64.40                89.0   \n4      4  2011-09-10 00:04:49         912.3     64.40               185.0   \n\n   avg_wind_speed  max_wind_direction  max_wind_speed  min_wind_direction  \\\n0             1.2               106.0             1.6                85.0   \n1             0.8               215.0             1.5                43.0   \n2             0.7               143.0             1.2               324.0   \n3             1.2               112.0             1.6                12.0   \n4             0.4               260.0             1.0               100.0   \n\n   min_wind_speed  rain_accumulation  rain_duration  relative_humidity  \n0             1.0                NaN            NaN               60.5  \n1             0.2                0.0            0.0               39.9  \n2             0.3                0.0            0.0               43.0  \n3             0.7                0.0            0.0               49.5  \n4             0.1                0.0            0.0               58.8  ",
      "text/html": "<div>\n<style scoped>\n    .dataframe tbody tr th:only-of-type {\n        vertical-align: middle;\n    }\n\n    .dataframe tbody tr th {\n        vertical-align: top;\n    }\n\n    .dataframe thead th {\n        text-align: right;\n    }\n</style>\n<table border=\"1\" class=\"dataframe\">\n  <thead>\n    <tr style=\"text-align: right;\">\n      <th></th>\n      <th>rowID</th>\n      <th>hpwren_timestamp</th>\n      <th>air_pressure</th>\n      <th>air_temp</th>\n      <th>avg_wind_direction</th>\n      <th>avg_wind_speed</th>\n      <th>max_wind_direction</th>\n      <th>max_wind_speed</th>\n      <th>min_wind_direction</th>\n      <th>min_wind_speed</th>\n      <th>rain_accumulation</th>\n      <th>rain_duration</th>\n      <th>relative_humidity</th>\n    </tr>\n  </thead>\n  <tbody>\n    <tr>\n      <th>0</th>\n      <td>0</td>\n      <td>2011-09-10 00:00:49</td>\n      <td>912.3</td>\n      <td>64.76</td>\n      <td>97.0</td>\n      <td>1.2</td>\n      <td>106.0</td>\n      <td>1.6</td>\n      <td>85.0</td>\n      <td>1.0</td>\n      <td>NaN</td>\n      <td>NaN</td>\n      <td>60.5</td>\n    </tr>\n    <tr>\n      <th>1</th>\n      <td>1</td>\n      <td>2011-09-10 00:01:49</td>\n      <td>912.3</td>\n      <td>63.86</td>\n      <td>161.0</td>\n      <td>0.8</td>\n      <td>215.0</td>\n      <td>1.5</td>\n      <td>43.0</td>\n      <td>0.2</td>\n      <td>0.0</td>\n      <td>0.0</td>\n      <td>39.9</td>\n    </tr>\n    <tr>\n      <th>2</th>\n      <td>2</td>\n      <td>2011-09-10 00:02:49</td>\n      <td>912.3</td>\n      <td>64.22</td>\n      <td>77.0</td>\n      <td>0.7</td>\n      <td>143.0</td>\n      <td>1.2</td>\n      <td>324.0</td>\n      <td>0.3</td>\n      <td>0.0</td>\n      <td>0.0</td>\n      <td>43.0</td>\n    </tr>\n    <tr>\n      <th>3</th>\n      <td>3</td>\n      <td>2011-09-10 00:03:49</td>\n      <td>912.3</td>\n      <td>64.40</td>\n      <td>89.0</td>\n      <td>1.2</td>\n      <td>112.0</td>\n      <td>1.6</td>\n      <td>12.0</td>\n      <td>0.7</td>\n      <td>0.0</td>\n      <td>0.0</td>\n      <td>49.5</td>\n    </tr>\n    <tr>\n      <th>4</th>\n      <td>4</td>\n      <td>2011-09-10 00:04:49</td>\n      <td>912.3</td>\n      <td>64.40</td>\n      <td>185.0</td>\n      <td>0.4</td>\n      <td>260.0</td>\n      <td>1.0</td>\n      <td>100.0</td>\n      <td>0.1</td>\n      <td>0.0</td>\n      <td>0.0</td>\n      <td>58.8</td>\n    </tr>\n  </tbody>\n</table>\n</div>"
     },
     "metadata": {},
     "output_type": "display_data"
    }
   ]
  },
  {
   "cell_type": "markdown",
   "source": "### Task 1  - K means ",
   "metadata": {
    "cell_id": "ccd850c9ce4f434990d8e80df3d6f1b8",
    "tags": [],
    "is_collapsed": false,
    "deepnote_cell_type": "text-cell-h3"
   }
  },
  {
   "cell_type": "code",
   "metadata": {
    "cell_id": "b339e935416e44918f478fce4ad3247c",
    "tags": [],
    "deepnote_to_be_reexecuted": false,
    "source_hash": "14f60b8f",
    "execution_start": 1648525366355,
    "execution_millis": 20,
    "deepnote_cell_type": "code",
    "deepnote_cell_height": 118.1875,
    "deepnote_output_heights": [
     21.1875
    ]
   },
   "source": "df.shape",
   "execution_count": 3,
   "outputs": [
    {
     "output_type": "execute_result",
     "execution_count": 3,
     "data": {
      "text/plain": "(1587257, 13)"
     },
     "metadata": {}
    }
   ]
  },
  {
   "cell_type": "code",
   "metadata": {
    "cell_id": "d948b266d42c4588a65caa32a1f89c53",
    "tags": [],
    "deepnote_to_be_reexecuted": false,
    "source_hash": "402faee5",
    "execution_start": 1648525366382,
    "execution_millis": 85,
    "deepnote_cell_type": "code",
    "deepnote_cell_height": 136.1875,
    "deepnote_output_heights": [
     21.1875
    ]
   },
   "source": "df_s = df[(df['rowID'] % 10) == 0]\ndf_s.shape",
   "execution_count": 4,
   "outputs": [
    {
     "output_type": "execute_result",
     "execution_count": 4,
     "data": {
      "text/plain": "(158726, 13)"
     },
     "metadata": {}
    }
   ]
  },
  {
   "cell_type": "code",
   "metadata": {
    "cell_id": "9673b2ee5e0e46d4a9b6cb997c223e34",
    "tags": [],
    "deepnote_to_be_reexecuted": false,
    "source_hash": "54f3d8e6",
    "execution_start": 1648525366512,
    "execution_millis": 1,
    "deepnote_cell_type": "code",
    "deepnote_cell_height": 117
   },
   "source": "#Eliminar data con valores vacios\ndel df_s['rain_accumulation']\ndel df_s['rain_duration']",
   "execution_count": 5,
   "outputs": []
  },
  {
   "cell_type": "code",
   "metadata": {
    "cell_id": "780295dad58a4d038b1589de6ac6a8ad",
    "tags": [],
    "deepnote_to_be_reexecuted": false,
    "source_hash": "ddb65572",
    "execution_start": 1648525366513,
    "execution_millis": 57,
    "deepnote_cell_type": "code",
    "deepnote_cell_height": 117
   },
   "source": "rows_before = df_s.shape[0]\ndf_s = df_s.dropna()\nrows_after = df_s.shape[0]",
   "execution_count": 6,
   "outputs": []
  },
  {
   "cell_type": "code",
   "metadata": {
    "cell_id": "44f86224dbbe435ea4f79d5eabfc5aee",
    "tags": [],
    "deepnote_to_be_reexecuted": false,
    "source_hash": "6b7a0f14",
    "execution_start": 1648525366577,
    "execution_millis": 31,
    "deepnote_cell_type": "code",
    "deepnote_cell_height": 171
   },
   "source": "#features para cluster\n#Cluster = ['air_pressure', 'air_temp', 'avg_wind_direction', 'avg_wind_speed', 'max_wind_direction', \n#        'max_wind_speed','relative_humidity']\nCluster = ['air_pressure', 'air_temp', 'relative_humidity']\nselect_c = df_s[Cluster]\nX = StandardScaler().fit_transform(select_c)",
   "execution_count": 7,
   "outputs": []
  },
  {
   "cell_type": "code",
   "source": "#Extraido de: https://medium.com/analytics-vidhya/how-to-determine-the-optimal-k-for-k-means-708505d204eb\ndef calculate_WSS(points, kmax):\n    sse = []\n    for k in range(1, kmax+1):\n        kmeans = KMeans(n_clusters = k).fit(points)\n        centroids = kmeans.cluster_centers_\n        pred_clusters = kmeans.predict(points)\n        curr_sse = 0\n    \n        # calculate square of Euclidean distance of each point from its cluster center and add to current WSS\n        for i in range(len(points)):\n            curr_center = centroids[pred_clusters[i]]\n            curr_sse += (points[i, 0] - curr_center[0]) ** 2 + (points[i, 1] - curr_center[1]) ** 2\n      \n        sse.append(curr_sse)\n    return sse",
   "metadata": {
    "cell_id": "8c3ac1777eed468c92197368d0ae73af",
    "tags": [],
    "deepnote_to_be_reexecuted": false,
    "source_hash": "1c84524e",
    "execution_start": 1648525366611,
    "execution_millis": 29,
    "deepnote_cell_type": "code",
    "deepnote_cell_height": 351
   },
   "outputs": [],
   "execution_count": 8
  },
  {
   "cell_type": "code",
   "source": "sse = calculate_WSS(X, 10)\n\nfig = plt.figure()\nax = plt.axes()\n\nx_plot = list(range(1,11))\n\nax.plot(x_plot, sse)",
   "metadata": {
    "cell_id": "7af912f193de4ea286474bbeb8e77e48",
    "tags": [],
    "deepnote_to_be_reexecuted": false,
    "source_hash": "31abfc28",
    "execution_start": 1648525366651,
    "execution_millis": 87731,
    "deepnote_cell_type": "code",
    "deepnote_cell_height": 525.1875,
    "deepnote_output_heights": [
     21.1875,
     250
    ]
   },
   "outputs": [
    {
     "output_type": "execute_result",
     "execution_count": 9,
     "data": {
      "text/plain": "[<matplotlib.lines.Line2D at 0x7f4586271c50>]"
     },
     "metadata": {}
    },
    {
     "data": {
      "text/plain": "<Figure size 432x288 with 1 Axes>",
      "image/png": "[encoded data removed]"
     },
     "metadata": {
      "needs_background": "light",
      "image/png": {
       "width": 393,
       "height": 248
      }
     },
     "output_type": "display_data"
    }
   ],
   "execution_count": 9
  },
  {
   "cell_type": "markdown",
   "source": "Al utilizar el método del codo podemos observar que el número de clusters más apropiado es de 5 por lo que ese número se utilizará para el modelo de kmeans.",
   "metadata": {
    "cell_id": "59939b5d0cad4215a5cdc9669343aef3",
    "tags": [],
    "deepnote_cell_type": "markdown",
    "deepnote_cell_height": 97.171875
   }
  },
  {
   "cell_type": "code",
   "metadata": {
    "cell_id": "3032191a938b49cb94304715ad8b41dc",
    "tags": [],
    "deepnote_to_be_reexecuted": false,
    "source_hash": "19f3391d",
    "execution_start": 1648525873035,
    "execution_millis": 8378,
    "deepnote_cell_type": "code",
    "deepnote_cell_height": 186.375
   },
   "source": "num_clusters = 5\nkmeans = KMeans(n_clusters=num_clusters)\nmodel = kmeans.fit(X)\nprint(\"model\\n\", model)",
   "execution_count": 18,
   "outputs": [
    {
     "name": "stdout",
     "text": "model\n KMeans(n_clusters=5)\n",
     "output_type": "stream"
    }
   ]
  },
  {
   "cell_type": "code",
   "metadata": {
    "cell_id": "aa345cd1e36444eca2fe05c3d506b6d6",
    "tags": [],
    "deepnote_to_be_reexecuted": false,
    "source_hash": "b45914d7",
    "execution_start": 1648525882171,
    "execution_millis": 11378,
    "deepnote_cell_type": "code",
    "deepnote_cell_height": 136.1875,
    "deepnote_output_heights": [
     21.1875
    ]
   },
   "source": "identified_clusters = kmeans.fit_predict(X)\nidentified_clusters",
   "execution_count": 19,
   "outputs": [
    {
     "output_type": "execute_result",
     "execution_count": 19,
     "data": {
      "text/plain": "array([3, 3, 3, ..., 1, 1, 1], dtype=int32)"
     },
     "metadata": {}
    }
   ]
  },
  {
   "cell_type": "code",
   "metadata": {
    "cell_id": "f8c03c8153b04c409716a0f4369a974f",
    "tags": [],
    "deepnote_to_be_reexecuted": false,
    "source_hash": "d6729ea6",
    "execution_start": 1648525894518,
    "execution_millis": 10028,
    "deepnote_cell_type": "code",
    "deepnote_cell_height": 691,
    "deepnote_output_heights": [
     null,
     21.1875,
     327
    ]
   },
   "source": "clusters = model.predict(X)\nfig = plt.figure(1)\nax = Axes3D(fig)\nax.scatter(X[:, 0], X[:, 1], X[:, 2],s=10,c=kmeans.labels_.astype(float), alpha=0.05)\nax.scatter(kmeans.cluster_centers_[:,0],kmeans.cluster_centers_[:,1], kmeans.cluster_centers_[:,2], s=300, c=\"yellow\",marker=\"*\", edgecolor=\"k\", label=\"Centroides\")\nax.set_title(\"K-means con 5 clusters\")\nax.set_xlabel(\"Presión del aire\")\nax.set_ylabel(\"Temperatura del aire\")\nax.set_zlabel(\"Humedad relativa\")",
   "execution_count": 20,
   "outputs": [
    {
     "name": "stderr",
     "text": "/shared-libs/python3.7/py-core/lib/python3.7/site-packages/ipykernel_launcher.py:3: MatplotlibDeprecationWarning: Axes3D(fig) adding itself to the figure is deprecated since 3.4. Pass the keyword argument auto_add_to_figure=False and use fig.add_axes(ax) to suppress this warning. The default value of auto_add_to_figure will change to False in mpl3.5 and True values will no longer work in 3.6.  This is consistent with other Axes classes.\n  This is separate from the ipykernel package so we can avoid doing imports until\n",
     "output_type": "stream"
    },
    {
     "output_type": "execute_result",
     "execution_count": 20,
     "data": {
      "text/plain": "Text(0.5, 0, 'Humedad relativa')"
     },
     "metadata": {}
    },
    {
     "data": {
      "text/plain": "<Figure size 432x288 with 1 Axes>",
      "image/png": "[encoded data removed]"
     },
     "metadata": {
      "needs_background": "light",
      "image/png": {
       "width": 333,
       "height": 325
      }
     },
     "output_type": "display_data"
    }
   ]
  },
  {
   "cell_type": "markdown",
   "source": "## Task 2  - Mixture-Models",
   "metadata": {
    "cell_id": "7fbcc94b02dc428b8fc62d9bd57e0fe4",
    "tags": [],
    "is_collapsed": false,
    "deepnote_cell_type": "text-cell-h2"
   }
  },
  {
   "cell_type": "code",
   "metadata": {
    "cell_id": "be8d0d80423148309cd64dd024c8a403",
    "tags": [],
    "deepnote_to_be_reexecuted": false,
    "source_hash": "ddb65572",
    "execution_start": 1648525473936,
    "execution_millis": 97,
    "deepnote_cell_type": "code",
    "deepnote_cell_height": 117
   },
   "source": "rows_before = df_s.shape[0]\ndf_s = df_s.dropna()\nrows_after = df_s.shape[0]",
   "execution_count": 13,
   "outputs": []
  },
  {
   "cell_type": "code",
   "metadata": {
    "cell_id": "262a76816ca34b46b48b097fd76c9074",
    "tags": [],
    "deepnote_to_be_reexecuted": false,
    "source_hash": "6b7a0f14",
    "execution_start": 1648525474034,
    "execution_millis": 191,
    "deepnote_cell_type": "code",
    "deepnote_cell_height": 171
   },
   "source": "#features para cluster\n#Cluster = ['air_pressure', 'air_temp', 'avg_wind_direction', 'avg_wind_speed', 'max_wind_direction', \n#        'max_wind_speed','relative_humidity']\nCluster = ['air_pressure', 'air_temp', 'relative_humidity']\nselect_c = df_s[Cluster]\nX = StandardScaler().fit_transform(select_c)",
   "execution_count": 14,
   "outputs": []
  },
  {
   "cell_type": "code",
   "source": "n_components = np.arange(1, 11)\nmodels = [GaussianMixture(n, covariance_type='full', random_state=0).fit(X)\n          for n in n_components]\n\nplt.plot(n_components, [m.bic(X) for m in models], label='BIC')\nplt.plot(n_components, [m.aic(X) for m in models], label='AIC')\nplt.legend(loc='best')\nplt.xlabel('n_components');",
   "metadata": {
    "cell_id": "f50273fc17834592a290c42f8a118800",
    "tags": [],
    "deepnote_to_be_reexecuted": false,
    "source_hash": "baf11293",
    "execution_start": 1648525474226,
    "execution_millis": 96075,
    "deepnote_cell_type": "code",
    "deepnote_cell_height": 499,
    "deepnote_output_heights": [
     276
    ]
   },
   "outputs": [
    {
     "data": {
      "text/plain": "<Figure size 432x288 with 1 Axes>",
      "image/png": "[encoded data removed]"
     },
     "metadata": {
      "needs_background": "light",
      "image/png": {
       "width": 378,
       "height": 274
      }
     },
     "output_type": "display_data"
    }
   ],
   "execution_count": 15
  },
  {
   "cell_type": "code",
   "metadata": {
    "cell_id": "e046ed1760c144be823366d00d6e9396",
    "tags": [],
    "deepnote_to_be_reexecuted": false,
    "source_hash": "a4cac62b",
    "execution_start": 1648525921786,
    "execution_millis": 24749,
    "deepnote_cell_type": "code",
    "deepnote_cell_height": 691,
    "deepnote_output_heights": [
     null,
     21.1875,
     327
    ]
   },
   "source": "gmm = GaussianMixture(n_components=4).fit(X)\nlabels = gmm.predict(X)\nfig = plt.figure(1)\nax = Axes3D(fig)\nax.scatter(X[:, 0], X[:, 1], X[:, 2], c=labels, s=10, alpha=0.1, cmap='viridis')\nax.set_title(\"Mixture-Models con 4 clusters\")\nax.set_xlabel(\"Presión del aire\")\nax.set_ylabel(\"Temperatura del aire\")\nax.set_zlabel(\"Humedad relativa\")",
   "execution_count": 21,
   "outputs": [
    {
     "name": "stderr",
     "text": "/shared-libs/python3.7/py-core/lib/python3.7/site-packages/ipykernel_launcher.py:4: MatplotlibDeprecationWarning: Axes3D(fig) adding itself to the figure is deprecated since 3.4. Pass the keyword argument auto_add_to_figure=False and use fig.add_axes(ax) to suppress this warning. The default value of auto_add_to_figure will change to False in mpl3.5 and True values will no longer work in 3.6.  This is consistent with other Axes classes.\n  after removing the cwd from sys.path.\n",
     "output_type": "stream"
    },
    {
     "output_type": "execute_result",
     "execution_count": 21,
     "data": {
      "text/plain": "Text(0.5, 0, 'Humedad relativa')"
     },
     "metadata": {}
    },
    {
     "data": {
      "text/plain": "<Figure size 432x288 with 1 Axes>",
      "image/png": "[encoded data removed]"
     },
     "metadata": {
      "needs_background": "light",
      "image/png": {
       "width": 333,
       "height": 325
      }
     },
     "output_type": "display_data"
    }
   ]
  },
  {
   "cell_type": "markdown",
   "source": "<a style='text-decoration:none;line-height:16px;display:flex;color:#5B5B62;padding:10px;justify-content:end;' href='https://deepnote.com?utm_source=created-in-deepnote-cell&projectId=1270734b-9f21-4c77-8d70-592faca90f10' target=\"_blank\">\n<img alt='Created in deepnote.com' style='display:inline;max-height:16px;margin:0px;margin-right:7.5px;' src='data:image/svg+xml;base64,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' > </img>\nCreated in <span style='font-weight:600;margin-left:4px;'>Deepnote</span></a>",
   "metadata": {
    "tags": [],
    "created_in_deepnote_cell": true,
    "deepnote_cell_type": "markdown"
   }
  }
 ],
 "nbformat": 4,
 "nbformat_minor": 2,
 "metadata": {
  "orig_nbformat": 2,
  "deepnote": {
   "is_reactive": false
  },
  "deepnote_notebook_id": "121d0890-0a3f-4040-a3c9-708662de5d07",
  "deepnote_execution_queue": []
 }
}